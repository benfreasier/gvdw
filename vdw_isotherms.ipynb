{
 "cells": [
  {
   "cell_type": "markdown",
   "metadata": {},
   "source": [
    "# User interactive Lennard-Jones Isotherm Plot\n",
    "\n",
    "## Script"
   ]
  },
  {
   "cell_type": "markdown",
   "metadata": {},
   "source": [
    "Import the fast numeric and plotting routines from numpy and matplotlib, respectively.\n",
    "\n",
    "Import the interaction and widget support from IPython.\n",
    "\n",
    "Define the function for reduced classical Van der Waals equation of state function.\n",
    "\n",
    "Define the reduced volume range.\n",
    "\n",
    "Define the plot routine with which the user will interact. It's single parameter is the scaled inverse temperature,\n",
    "$\\delta = a/RT$."
   ]
  },
  {
   "cell_type": "code",
   "execution_count": 1,
   "metadata": {
    "ExecuteTime": {
     "end_time": "2020-08-25T23:10:38.861821Z",
     "start_time": "2020-08-25T23:10:38.167670Z"
    }
   },
   "outputs": [],
   "source": [
    "from numpy import *\n",
    "from matplotlib.pyplot import *\n",
    "from ipywidgets import interact_manual\n",
    "import ipywidgets as widgets\n",
    "\n",
    "def vdw(v,t):\n",
    "    p = t/(v-1.)-1./(v*v)\n",
    "    return p\n",
    "\n",
    "x = arange(1.5,10,.01)\n",
    "\n",
    "def doplot(delta):\n",
    "    def f(x):\n",
    "        T = 1./delta\n",
    "        return vdw(x,T)*delta\n",
    "    uf = frompyfunc(f,1,1)\n",
    "    y = uf(x)\n",
    "    plot(x,y)\n",
    "    title(\"$\\delta = a/RT = %4.2f$\" % delta,size=20)\n",
    "    xlabel(\"$x=V_m$\",size=18)\n",
    "    ylabel(\"$f(x)=P/RT$\",size=18)"
   ]
  },
  {
   "cell_type": "markdown",
   "metadata": {},
   "source": [
    "## Background \n",
    "\n",
    "This is the famous **van der Waals equation of state** which in\n",
    "standard thermodynamic notation can be written as\n",
    "\n",
    "$$P=\\frac{RT}{V_{m}-b}-\\frac{a}{V_{m}^{2}}$$.\n",
    "\n",
    "$V_{m}$ is the molar volume and $a,b$ are the van\n",
    "der Waals parameters. A good discusion of the phase diagram of the **van der Waals equation of state** is given in Section 5.3 in \n",
    "**Generalized van der Waals Theory of Molecular Fluids in Bulk and at Surfaces**. The relevant equations in the book are Equations 5.40-5.42,5.56.\n",
    "\n",
    "It is useful to recall that the critical temperature for this model is (from equation 5.56 in book)\n",
    "\n",
    "$$T_{c}=\\frac{8\\widehat{a}}{27k_{B}v_{0}},$$\n",
    "\n",
    "so that in reduced units the crtical inverse temperature would be\n",
    "\n",
    "$$ \\delta_c = {27\\over8} = 3.375 $$.\n",
    "    \n",
    "\n",
    "## User Instructions\n",
    "\n",
    "Run all cells by Executing the **Run ALL** menu item under the **Cell** menu.\n",
    "\n",
    "This will set up the interaction widget, so that the user can specify $\\delta$ with a slider. \n",
    "\n",
    "Once the user is satisfied with their choice of $\\delta$ (=delta), the user can generate the isotherm plot by clicking the **Run interact** button. \n",
    "\n",
    "This can be done repetitively.\n"
   ]
  },
  {
   "cell_type": "code",
   "execution_count": 5,
   "metadata": {
    "ExecuteTime": {
     "end_time": "2020-08-25T23:10:39.339782Z",
     "start_time": "2020-08-25T23:10:39.176218Z"
    }
   },
   "outputs": [
    {
     "data": {
      "application/vnd.jupyter.widget-view+json": {
       "model_id": "28cda725477640faa1e598fd0ddf9259",
       "version_major": 2,
       "version_minor": 0
      },
      "text/plain": [
       "interactive(children=(FloatSlider(value=1.0, description='delta', max=4.0, min=1.0, step=0.01), Button(descrip…"
      ]
     },
     "metadata": {},
     "output_type": "display_data"
    }
   ],
   "source": [
    "w=interact_manual(doplot, delta=widgets.FloatSlider(min=1., max=4., step=.01,value=1.))"
   ]
  }
 ],
 "metadata": {
  "hide_input": false,
  "kernelspec": {
   "display_name": "p36workshop",
   "language": "python",
   "name": "p36workshop"
  },
  "language_info": {
   "codemirror_mode": {
    "name": "ipython",
    "version": 3
   },
   "file_extension": ".py",
   "mimetype": "text/x-python",
   "name": "python",
   "nbconvert_exporter": "python",
   "pygments_lexer": "ipython3",
   "version": "3.6.10"
  },
  "toc": {
   "base_numbering": 1,
   "nav_menu": {},
   "number_sections": true,
   "sideBar": true,
   "skip_h1_title": true,
   "title_cell": "Table of Contents",
   "title_sidebar": "Contents",
   "toc_cell": true,
   "toc_position": {},
   "toc_section_display": true,
   "toc_window_display": false
  }
 },
 "nbformat": 4,
 "nbformat_minor": 2
}

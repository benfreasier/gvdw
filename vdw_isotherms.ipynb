{
 "cells": [
  {
   "cell_type": "markdown",
   "metadata": {},
   "source": [
    "# User interactive Lennard-Jones Isotherm Plot"
   ]
  },
  {
   "cell_type": "markdown",
   "metadata": {},
   "source": [
    "- Import the fast numeric and plotting routines from numpy and matplotlib, respectively.\n",
    "- Import the interaction and widget support from IPython."
   ]
  },
  {
   "cell_type": "code",
   "execution_count": 6,
   "metadata": {
    "ExecuteTime": {
     "end_time": "2020-08-21T01:41:29.374829Z",
     "start_time": "2020-08-21T01:41:29.367849Z"
    }
   },
   "outputs": [],
   "source": [
    "from numpy import *\n",
    "from matplotlib.pyplot import *\n",
    "from ipywidgets import interact_manual\n",
    "import ipywidgets as widgets"
   ]
  },
  {
   "cell_type": "markdown",
   "metadata": {},
   "source": [
    "Define the function for reduced classical Van der Waals equation of state function, eg, as defined in DEquation 5.41 in **Generalized van der Waals Theory of Molecular Fluids in Bulk and at Surfaces**."
   ]
  },
  {
   "cell_type": "code",
   "execution_count": 2,
   "metadata": {
    "ExecuteTime": {
     "end_time": "2020-08-21T01:26:27.673491Z",
     "start_time": "2020-08-21T01:26:27.664493Z"
    }
   },
   "outputs": [],
   "source": [
    "def vdw(v,t):\n",
    "    p = t/(v-1.)-1./(v*v)\n",
    "    return p"
   ]
  },
  {
   "cell_type": "markdown",
   "metadata": {},
   "source": [
    "Define the reduced volume range."
   ]
  },
  {
   "cell_type": "code",
   "execution_count": 3,
   "metadata": {
    "ExecuteTime": {
     "end_time": "2020-08-21T01:26:27.798140Z",
     "start_time": "2020-08-21T01:26:27.679451Z"
    }
   },
   "outputs": [],
   "source": [
    "x = arange(1.5,10,.01)"
   ]
  },
  {
   "cell_type": "markdown",
   "metadata": {},
   "source": [
    "Define the plot routine with which the user will interact. It's single parameter is the scaled inverse temperature,\n",
    "$\\delta = a/RT$."
   ]
  },
  {
   "cell_type": "code",
   "execution_count": 4,
   "metadata": {
    "ExecuteTime": {
     "end_time": "2020-08-21T01:26:27.912833Z",
     "start_time": "2020-08-21T01:26:27.801126Z"
    }
   },
   "outputs": [],
   "source": [
    "def doplot(delta):\n",
    "    def f(x):\n",
    "        T = 1./delta\n",
    "        return vdw(x,T)*delta\n",
    "    uf = frompyfunc(f,1,1)\n",
    "    y = uf(x)\n",
    "    plot(x,y)\n",
    "    title(\"$\\delta = a/RT = %4.2f$\" % delta,size=20)\n",
    "    xlabel(\"$x=V_m$\",size=18)\n",
    "    ylabel(\"$f(x)=P/RT$\",size=18)"
   ]
  },
  {
   "cell_type": "markdown",
   "metadata": {},
   "source": [
    "Set up the interaction widget, so that the user can specify $\\delta$ with a slider. Once the user is satisfied with their choice of $delta$, the user can generate the plot by clicking the **Run interact** button. This can be done repetitively."
   ]
  },
  {
   "cell_type": "code",
   "execution_count": 5,
   "metadata": {
    "ExecuteTime": {
     "end_time": "2020-08-21T01:26:28.114292Z",
     "start_time": "2020-08-21T01:26:27.915819Z"
    }
   },
   "outputs": [
    {
     "data": {
      "application/vnd.jupyter.widget-view+json": {
       "model_id": "41678493d2044ec5ac3e40de178e3518",
       "version_major": 2,
       "version_minor": 0
      },
      "text/plain": [
       "interactive(children=(FloatSlider(value=1.0, description='delta', max=4.0, min=1.0, step=0.01), Button(descrip…"
      ]
     },
     "metadata": {},
     "output_type": "display_data"
    }
   ],
   "source": [
    "w=interact_manual(doplot, delta=widgets.FloatSlider(min=1., max=4., step=.01,value=1.))"
   ]
  }
 ],
 "metadata": {
  "kernelspec": {
   "display_name": "p36workshop",
   "language": "python",
   "name": "p36workshop"
  },
  "language_info": {
   "codemirror_mode": {
    "name": "ipython",
    "version": 3
   },
   "file_extension": ".py",
   "mimetype": "text/x-python",
   "name": "python",
   "nbconvert_exporter": "python",
   "pygments_lexer": "ipython3",
   "version": "3.6.10"
  },
  "toc": {
   "base_numbering": 1,
   "nav_menu": {},
   "number_sections": true,
   "sideBar": true,
   "skip_h1_title": true,
   "title_cell": "Table of Contents",
   "title_sidebar": "Contents",
   "toc_cell": true,
   "toc_position": {},
   "toc_section_display": true,
   "toc_window_display": false
  }
 },
 "nbformat": 4,
 "nbformat_minor": 2
}

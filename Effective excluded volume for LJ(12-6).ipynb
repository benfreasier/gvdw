{
 "cells": [
  {
   "cell_type": "markdown",
   "metadata": {},
   "source": [
    "# Effective excluded volume for LJ(12-6)\n",
    "\n",
    "This demo let's the user input the tmperature for the calculation of the effective excluded volume for the 12-6 \n",
    "Lennard-Jone fluid as give by Equation 6.38 in **Generalized van der Waals Theory of Molecular Fluids in Bulk and at Surfaces**."
   ]
  },
  {
   "cell_type": "code",
   "execution_count": 1,
   "metadata": {
    "ExecuteTime": {
     "end_time": "2020-08-24T01:29:39.417615Z",
     "start_time": "2020-08-24T01:29:38.754279Z"
    }
   },
   "outputs": [],
   "source": [
    "from numpy import *\n",
    "from matplotlib.pyplot import *\n",
    "from ipywidgets import interact_manual\n",
    "import ipywidgets as widgets"
   ]
  },
  {
   "cell_type": "code",
   "execution_count": 2,
   "metadata": {
    "ExecuteTime": {
     "end_time": "2020-08-24T01:29:39.431494Z",
     "start_time": "2020-08-24T01:29:39.421497Z"
    }
   },
   "outputs": [],
   "source": [
    "brange = arange(.005,1,.005)\n",
    "def doplot(T):\n",
    "    def f(b):\n",
    "        b2 = b*b\n",
    "        z = (T/4.)*(b2*b2)/(1-b2)\n",
    "        return (1./b)*(1-z)\n",
    "    uf = frompyfunc(f,1,1)\n",
    "    n = uf(brange)\n",
    "    plot(n,brange)\n",
    "    xlabel(\"$n\\sigma^3$\",size=18)\n",
    "    ylabel(\"$b/\\sigma^3$\",size=18)\n",
    "    s = \"Excluded volume as a function of density\\n\"\n",
    "    s += \"$k_BT/\\epsilon = %.1f$\" % (T,)\n",
    "    title(s,size = 18)\n",
    "    ax = list(axis())\n",
    "    ax[0] = 0\n",
    "    ax[1] = 3.\n",
    "    ax[2] = .0\n",
    "    ax[3] = 1.\n",
    "    axis(ax)"
   ]
  },
  {
   "cell_type": "markdown",
   "metadata": {},
   "source": [
    "**User Instructions**\n",
    "\n",
    "Run all cells by executing the **Run ALL** menu item under the **Cell** menu.\n",
    "\n",
    "This will set up the interaction widget, so that the user can specify the reduced temperature, T, with a slider. \n",
    "\n",
    "Once the user is satisfied with their choice of T, the user can generate the density dependence of the\n",
    "effective exclusion volume, b, by clicking the **Run interact** button. \n",
    "\n",
    "This can be done repetitively."
   ]
  },
  {
   "cell_type": "code",
   "execution_count": 3,
   "metadata": {
    "ExecuteTime": {
     "end_time": "2020-08-24T01:29:39.581214Z",
     "start_time": "2020-08-24T01:29:39.435459Z"
    }
   },
   "outputs": [
    {
     "data": {
      "application/vnd.jupyter.widget-view+json": {
       "model_id": "c0f6dd6bada4458981f5512e287f5d3f",
       "version_major": 2,
       "version_minor": 0
      },
      "text/plain": [
       "interactive(children=(FloatSlider(value=2.5, description='T', max=2.5, min=0.1, step=0.01), Button(description…"
      ]
     },
     "metadata": {},
     "output_type": "display_data"
    }
   ],
   "source": [
    "w=interact_manual(doplot, T=widgets.FloatSlider(min=.1, max=2.5, step=.01,value=2.5))"
   ]
  }
 ],
 "metadata": {
  "kernelspec": {
   "display_name": "p36workshop",
   "language": "python",
   "name": "p36workshop"
  },
  "language_info": {
   "codemirror_mode": {
    "name": "ipython",
    "version": 3
   },
   "file_extension": ".py",
   "mimetype": "text/x-python",
   "name": "python",
   "nbconvert_exporter": "python",
   "pygments_lexer": "ipython3",
   "version": "3.6.10"
  },
  "toc": {
   "base_numbering": 1,
   "nav_menu": {},
   "number_sections": true,
   "sideBar": true,
   "skip_h1_title": true,
   "title_cell": "Table of Contents",
   "title_sidebar": "Contents",
   "toc_cell": true,
   "toc_position": {},
   "toc_section_display": true,
   "toc_window_display": false
  }
 },
 "nbformat": 4,
 "nbformat_minor": 2
}

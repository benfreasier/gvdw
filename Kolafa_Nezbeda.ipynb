{
 "cells": [
  {
   "cell_type": "markdown",
   "metadata": {},
   "source": [
    "## Introduction\n",
    "\n",
    "This is a conversion of the Fortran code from [the FORTRAN code](http://www.sklogwiki.org/SklogWiki/index.php/FORTRAN_code_for_the_Kolafa_and_Nezbeda_equation_of_state)\n",
    "for the Kolafa and Nezbeda equation of state for the Lennard-Jones fluid.\n",
    "It provides the following Python source code for the functions described in J. Kolafa, I. Nezbeda, Fluid Phase Equil. 100 (1994), 1.\n",
    "\n",
    "    ALJ(T,rho)...Helmholtz free energy (including the ideal term)\n",
    "    PLJ(T,rho)...Pressure\n",
    "    ULJ(T,rho)...Internal energy\n",
    "    \n",
    "I have mainly converted the pressure function. It is worth recalling that all standard float operations in Python are double precision.\n"
   ]
  },
  {
   "cell_type": "markdown",
   "metadata": {},
   "source": [
    "## Imports"
   ]
  },
  {
   "cell_type": "code",
   "execution_count": 56,
   "metadata": {},
   "outputs": [],
   "source": [
    "import numpy as np\n",
    "PI = np.pi\n",
    "dlog = np.log\n",
    "dsqrt = np.sqrt\n",
    "exp= np.exp"
   ]
  },
  {
   "cell_type": "markdown",
   "metadata": {},
   "source": [
    "## ALJ(T,rho)"
   ]
  },
  {
   "cell_type": "code",
   "execution_count": 57,
   "metadata": {},
   "outputs": [],
   "source": [
    "def ALJ(T, rho):\n",
    "    \"\"\"\n",
    "    Helmholtz free energy (including the ideal term)\n",
    "    \"\"\"\n",
    "    eta = PI / 6. * rho * (dC(T))**3\n",
    "    x = (dlog(rho) + betaAHS(eta) +\n",
    "         rho * BC(T) / exp(gammaBH(T) * rho**2)) * T + DALJ(T, rho)\n",
    "    return x"
   ]
  },
  {
   "cell_type": "markdown",
   "metadata": {},
   "source": [
    "## ALJres(T,rho)"
   ]
  },
  {
   "cell_type": "code",
   "execution_count": 58,
   "metadata": {},
   "outputs": [],
   "source": [
    "def ALJres(T, rho):\n",
    "    \"\"\"Helmholtz free energy (without ideal term)\"\"\"\n",
    "    eta = PI / 6. * rho * (dC(T))**3\n",
    "    x = (betaAHS(eta) + rho * BC(T) / exp(gammaBH(T) * rho**2)) * T + DALJ(\n",
    "        T, rho)\n",
    "    return x"
   ]
  },
  {
   "cell_type": "markdown",
   "metadata": {},
   "source": [
    "## PLJ(T,rho)"
   ]
  },
  {
   "cell_type": "code",
   "execution_count": 71,
   "metadata": {},
   "outputs": [],
   "source": [
    "def PLJ(T, rho):\n",
    "    \"\"\"pressure\"\"\"\n",
    "    eta = PI / 6. * rho * (dC(T))**3\n",
    "    sum = ((2.01546797 * 2 + rho * ((-28.17881636) * 3 + rho *\n",
    "                                    (28.28313847 * 4 + rho *\n",
    "                                     (-10.42402873) * 5))) +\n",
    "           ((-19.58371655) * 2 + rho * (+75.62340289 * 3 + rho *\n",
    "                                        ((-120.70586598) * 4 + rho *\n",
    "                                         (+93.92740328 * 5 + rho *\n",
    "                                          (-27.37737354) * 6)))) / dsqrt(T) +\n",
    "           ((29.34470520 * 2 + rho *\n",
    "             ((-112.35356937) * 3 + rho *\n",
    "              (+170.64908980 * 4 + rho *\n",
    "               ((-123.06669187) * 5 + rho * 34.42288969 * 6)))) +\n",
    "            ((-13.37031968) * 2 + rho *\n",
    "             (65.38059570 * 3 + rho *\n",
    "              ((-115.09233113) * 4 + rho *\n",
    "               (88.91973082 * 5 + rho *\n",
    "                (-25.62099890) * 6)))) / T) / T) * rho**2\n",
    "    x = ((zHS(eta) + BC(T) / exp(gammaBH(T) * rho**2) * rho *\n",
    "          (1 - 2 * gammaBH(T) * rho**2)) * T + sum) * rho\n",
    "    return x\n",
    "\n",
    "def plj(rho,t=1.):\n",
    "    return PLJ(t,rho)"
   ]
  },
  {
   "cell_type": "code",
   "execution_count": 64,
   "metadata": {},
   "outputs": [],
   "source": [
    "def dC(T):\n",
    "    sT = dsqrt(T)\n",
    "    return -0.063920968 * dlog(\n",
    "        T) + 0.011117524 / T - 0.076383859 / sT + 1.080142248 + 0.000693129 * sT"
   ]
  },
  {
   "cell_type": "code",
   "execution_count": 60,
   "metadata": {},
   "outputs": [
    {
     "data": {
      "text/plain": [
       "[<matplotlib.lines.Line2D at 0x2455cb3d430>]"
      ]
     },
     "execution_count": 60,
     "metadata": {},
     "output_type": "execute_result"
    },
    {
     "data": {
      "image/png": "[encoded data removed]",
      "text/plain": [
       "<Figure size 432x288 with 1 Axes>"
      ]
     },
     "metadata": {
      "needs_background": "light"
     },
     "output_type": "display_data"
    }
   ],
   "source": [
    "# import matplotlib.pyplot as plt\n",
    "# r = np.arange(.2, .4,.01)\n",
    "# p = plj(r,t=1.338)\n",
    "# plt.plot(r,p)"
   ]
  },
  {
   "cell_type": "markdown",
   "metadata": {},
   "source": [
    "## zHS(eta)"
   ]
  },
  {
   "cell_type": "code",
   "execution_count": 61,
   "metadata": {},
   "outputs": [],
   "source": [
    "def zHS(eta):\n",
    "    return (1+eta*(1+eta*(1-eta/1.5*(1+eta)))) / (1-eta)**3"
   ]
  },
  {
   "cell_type": "markdown",
   "metadata": {},
   "source": [
    "## BC( T)"
   ]
  },
  {
   "cell_type": "code",
   "execution_count": 62,
   "metadata": {},
   "outputs": [],
   "source": [
    "def BC(T):\n",
    "    isT = 1 / dsqrt(T)\n",
    "    x = (((((-0.58544978 * isT + 0.43102052) * isT + .87361369) * isT -\n",
    "           4.13749995) * isT + 2.90616279) * isT - 7.02181962) / T + 0.02459877\n",
    "    return x"
   ]
  },
  {
   "cell_type": "markdown",
   "metadata": {},
   "source": [
    "## gammaBH(X)"
   ]
  },
  {
   "cell_type": "code",
   "execution_count": 63,
   "metadata": {},
   "outputs": [],
   "source": [
    "def gammaBH(X):\n",
    "    return 1.92907278\n"
   ]
  },
  {
   "cell_type": "markdown",
   "metadata": {},
   "source": [
    "## dC(T)"
   ]
  },
  {
   "cell_type": "code",
   "execution_count": 65,
   "metadata": {},
   "outputs": [],
   "source": [
    "# C/* internal energy */\n",
    "#       DOUBLE PRECISION FUNCTION ULJ( T, rho)\n",
    "#       implicit double precision (a-h,o-z)\n",
    "#        data pi /3.141592654d0/\n",
    "#       dBHdT=dCdT(T)\n",
    "#       dB2BHdT=BCdT(T)\n",
    "#       d=dC(T)\n",
    "#       eta=PI/6. *rho*d**3\n",
    "#       sum= ((2.01546797+rho*(\n",
    "#  (-28.17881636)+rho*(\n",
    "#  +28.28313847+rho*\n",
    "#  (-10.42402873))))\n",
    "#  + (-19.58371655*1.5+rho*(\n",
    "#  75.62340289*1.5+rho*(\n",
    "#  (-120.70586598)*1.5+rho*(\n",
    "#  93.92740328*1.5+rho*\n",
    "#  (-27.37737354)*1.5))))/dsqrt(T)\n",
    "#  + ((29.34470520*2+rho*(\n",
    "#  -112.35356937*2+rho*(\n",
    "#   170.64908980*2+rho*(\n",
    "#  -123.06669187*2+rho*\n",
    "#  34.42288969*2)))) +\n",
    "#  (-13.37031968*3+rho*(\n",
    "#   65.38059570*3+rho*(\n",
    "#   -115.09233113*3+rho*(\n",
    "#  88.91973082*3+rho*\n",
    "#  (-25.62099890)*3))))/T)/T) *rho*rho\n",
    "#       ULJ = 3*(zHS(eta)-1)*dBHdT/d\n",
    "#  +rho*dB2BHdT/exp(gammaBH(T)*rho**2) +sum\n",
    "#       RETURN\n",
    "#       END"
   ]
  },
  {
   "cell_type": "code",
   "execution_count": 66,
   "metadata": {},
   "outputs": [],
   "source": [
    "#       DOUBLE PRECISION FUNCTION betaAHS( eta )\n",
    "#       implicit double precision (a-h,o-z)\n",
    "#       betaAHS = dlog(1-eta)/0.6\n",
    "#   + eta*( (4.0/6*eta-33.0/6)*eta+34.0/6 ) /(1.-eta)**2\n",
    "#       RETURN\n",
    "#       END\n",
    "# C /* hBH diameter */\n",
    "#       DOUBLE PRECISION FUNCTION dLJ(T)\n",
    "#       implicit double precision (a-h,o-z)\n",
    "#       DOUBLE PRECISION IST\n",
    "#       isT=1/dsqrt(T)\n",
    "#       dLJ = ((( 0.011117524191338 *isT-0.076383859168060)\n",
    "#  *isT)*isT+0.000693129033539)/isT+1.080142247540047\n",
    "#  +0.127841935018828*dlog(isT)\n",
    "#       RETURN\n",
    "#       END"
   ]
  },
  {
   "cell_type": "code",
   "execution_count": 67,
   "metadata": {},
   "outputs": [],
   "source": [
    "#       DOUBLE PRECISION FUNCTION BCdT( T)\n",
    "#       implicit double precision (a-h,o-z)\n",
    "#       DOUBLE PRECISION iST\n",
    "#       isT=1/dsqrt(T)\n",
    "#       BCdT = ((((-0.58544978*3.5*isT+0.43102052*3)*isT\n",
    "#   +0.87361369*2.5)*isT-4.13749995*2)*isT\n",
    "#   +2.90616279*1.5)*isT-7.02181962\n",
    "#       RETURN\n",
    "#       END"
   ]
  },
  {
   "cell_type": "code",
   "execution_count": 68,
   "metadata": {},
   "outputs": [],
   "source": [
    "#       DOUBLE PRECISION FUNCTION dCdT( T)\n",
    "#       implicit double precision (a-h,o-z)\n",
    "#       sT=dsqrt(T)\n",
    "#       dCdT =   0.063920968*T+0.011117524+(-0.5*0.076383859\n",
    "#    -0.5*0.000693129*T)*sT\n",
    "#       RETURN\n",
    "#       END"
   ]
  },
  {
   "cell_type": "code",
   "execution_count": 69,
   "metadata": {},
   "outputs": [],
   "source": [
    "#       DOUBLE PRECISION FUNCTION DALJ(T,rho)\n",
    "#       implicit double precision (a-h,o-z)\n",
    "#       DALJ = ((+2.01546797+rho*(-28.17881636\n",
    "#  +rho*(+28.28313847+rho*(-10.42402873))))\n",
    "#  +(-19.58371655+rho*(75.62340289+rho*((-120.70586598)\n",
    "#  +rho*(93.92740328+rho*(-27.37737354)))))/dsqrt(T)\n",
    "#  + ( (29.34470520+rho*((-112.35356937)\n",
    "#  +rho*(+170.64908980+rho*((-123.06669187)\n",
    "#  +rho*34.42288969))))\n",
    "#  +(-13.37031968+rho*(65.38059570+\n",
    "#  rho*((-115.09233113)+rho*(88.91973082\n",
    "#  +rho* (-25.62099890)))))/T)/T) *rho*rho\n",
    "#       RETURN\n",
    "#       END"
   ]
  }
 ],
 "metadata": {
  "kernelspec": {
   "display_name": "Python 3",
   "language": "python",
   "name": "python3"
  },
  "language_info": {
   "codemirror_mode": {
    "name": "ipython",
    "version": 3
   },
   "file_extension": ".py",
   "mimetype": "text/x-python",
   "name": "python",
   "nbconvert_exporter": "python",
   "pygments_lexer": "ipython3",
   "version": "3.8.3"
  },
  "toc": {
   "base_numbering": 1,
   "nav_menu": {},
   "number_sections": true,
   "sideBar": true,
   "skip_h1_title": false,
   "title_cell": "Table of Contents",
   "title_sidebar": "Contents",
   "toc_cell": false,
   "toc_position": {},
   "toc_section_display": true,
   "toc_window_display": true
  }
 },
 "nbformat": 4,
 "nbformat_minor": 4
}

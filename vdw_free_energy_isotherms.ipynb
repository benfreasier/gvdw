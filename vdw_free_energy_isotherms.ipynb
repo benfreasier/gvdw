{
 "cells": [
  {
   "cell_type": "markdown",
   "metadata": {},
   "source": [
    "# User interactive Lennard-Jones Free Energy Isotherm Plot"
   ]
  },
  {
   "cell_type": "markdown",
   "metadata": {},
   "source": [
    "- Import the fast numeric and plotting routines from numpy and matplotlib, respectively.\n",
    "- Import the interaction and widget support from IPython."
   ]
  },
  {
   "cell_type": "code",
   "execution_count": 1,
   "metadata": {
    "ExecuteTime": {
     "end_time": "2020-08-22T01:47:39.311151Z",
     "start_time": "2020-08-22T01:47:38.489339Z"
    }
   },
   "outputs": [],
   "source": [
    "from numpy import *\n",
    "from matplotlib.pyplot import *\n",
    "from ipywidgets import interact_manual\n",
    "import ipywidgets as widgets"
   ]
  },
  {
   "cell_type": "markdown",
   "metadata": {},
   "source": [
    "Define the function for reduced classical Van der Waals free energy function, eg, as defined in Equation 5.54 in **Generalized van der Waals Theory of Molecular Fluids in Bulk and at Surfaces**."
   ]
  },
  {
   "cell_type": "code",
   "execution_count": 2,
   "metadata": {
    "ExecuteTime": {
     "end_time": "2020-08-22T01:47:39.321119Z",
     "start_time": "2020-08-22T01:47:39.313138Z"
    }
   },
   "outputs": [],
   "source": [
    "def f(x):\n",
    "    T = 1./d\n",
    "    return -math.log(x-1.) - d/x\n",
    "uf = frompyfunc(f,1,1)"
   ]
  },
  {
   "cell_type": "markdown",
   "metadata": {},
   "source": [
    "Define the reduced volume range."
   ]
  },
  {
   "cell_type": "code",
   "execution_count": 3,
   "metadata": {
    "ExecuteTime": {
     "end_time": "2020-08-22T01:47:39.455766Z",
     "start_time": "2020-08-22T01:47:39.325108Z"
    }
   },
   "outputs": [],
   "source": [
    "x = arange(1.2,20,.01)"
   ]
  },
  {
   "cell_type": "markdown",
   "metadata": {},
   "source": [
    "Define the plot routine with which the user will interact. It's single parameter is the scaled inverse temperature,\n",
    "$\\delta = a/RT$."
   ]
  },
  {
   "cell_type": "code",
   "execution_count": 4,
   "metadata": {
    "ExecuteTime": {
     "end_time": "2020-08-22T01:47:39.601367Z",
     "start_time": "2020-08-22T01:47:39.458776Z"
    }
   },
   "outputs": [],
   "source": [
    "def doplot(delta):\n",
    "    global d\n",
    "    d = delta\n",
    "    uf = frompyfunc(f,1,1)\n",
    "    y = uf(x)\n",
    "    plot(x,y)\n",
    "    title(\"$\\delta = a/RT = %4.2f$\" % delta,size=20)\n",
    "    xlabel(\"$x=v/v_0$\",size=18)\n",
    "    ylabel(\"$f(v)/(k_BT)+3\\,\\ln(\\lambda)-1$\",size=18)\n"
   ]
  },
  {
   "cell_type": "markdown",
   "metadata": {},
   "source": [
    "**User Instructions**\n",
    "\n",
    "Run all cells by Executing the **Run ALL** menu item under the **Cell** menu.\n",
    "\n",
    "This will set up the interaction widget, so that the user can specify $\\delta$ with a slider. \n",
    "\n",
    "Once the user is satisfied with their choice of $\\delta$ (=delta), the user can generate the isotherm plot by clicking the **Run interact** button. \n",
    "\n",
    "This can be done repetitively."
   ]
  },
  {
   "cell_type": "code",
   "execution_count": 5,
   "metadata": {
    "ExecuteTime": {
     "end_time": "2020-08-22T01:47:39.778893Z",
     "start_time": "2020-08-22T01:47:39.604360Z"
    }
   },
   "outputs": [
    {
     "data": {
      "application/vnd.jupyter.widget-view+json": {
       "model_id": "43d65ef129304b38bd7dc05ee71f3e0a",
       "version_major": 2,
       "version_minor": 0
      },
      "text/plain": [
       "interactive(children=(FloatSlider(value=1.0, description='delta', max=10.0, min=1.0, step=0.01), Button(descri…"
      ]
     },
     "metadata": {},
     "output_type": "display_data"
    }
   ],
   "source": [
    "w=interact_manual(doplot, delta=widgets.FloatSlider(min=1., max=10., step=.01,value=1.))"
   ]
  }
 ],
 "metadata": {
  "kernelspec": {
   "display_name": "p36workshop",
   "language": "python",
   "name": "p36workshop"
  },
  "language_info": {
   "codemirror_mode": {
    "name": "ipython",
    "version": 3
   },
   "file_extension": ".py",
   "mimetype": "text/x-python",
   "name": "python",
   "nbconvert_exporter": "python",
   "pygments_lexer": "ipython3",
   "version": "3.6.10"
  },
  "toc": {
   "base_numbering": 1,
   "nav_menu": {},
   "number_sections": true,
   "sideBar": true,
   "skip_h1_title": true,
   "title_cell": "Table of Contents",
   "title_sidebar": "Contents",
   "toc_cell": true,
   "toc_position": {},
   "toc_section_display": true,
   "toc_window_display": false
  }
 },
 "nbformat": 4,
 "nbformat_minor": 2
}

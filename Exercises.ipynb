{
 "cells": [
  {
   "cell_type": "markdown",
   "metadata": {},
   "source": [
    "# Exercises for eosapp Application\n",
    "\n",
    "This document contains a number of exercises that use the **eosapp** application as a tool for understanding the nature of a class of mean field models typified by the van der Waals equation of state (EOS) applied to the Lennard-Jones intermolecular potential. To perform these exercises, the user will need to \n",
    "\n",
    "1. initiate the **eosapp** by selecting this [Binder Link](https://mybinder.org/v2/gh/benfreasier/gvdw.git/master). It will take a moment or two for the the operational environment to load.\n",
    "2. once the directory of the project area has loaded, select **eosapp.ipynb**\n",
    "3. once the app has loaded, select **Run All** under the **Cell** menu.\n",
    "4. scroll down to the bottom of the file to locate the graphical representation of the application (GUI).\n",
    "\n",
    "The user can now perform the exercises.\n",
    "\n"
   ]
  },
  {
   "cell_type": "markdown",
   "metadata": {},
   "source": [
    "## van der Waals Loops\n",
    "\n",
    "1. Select the classical van der Waals EOS, **vdw**, box from the list of EOSs.\n",
    "2. Set the temperature to 2.0 (reduced by $\\epsilon/k_B$).\n",
    "3. Click on **Do Plot**. Notice that **Max density** has automatically be adjusted to be below $3/(2*\\pi)$ beyond which the **vdw** EOS is not defined.\n",
    "4. At this temperature the pressure is acting like we expect, but we are interested in the coexistence region. So, select the **Coexistence tie line** box. Then click on the **Do Plot** button. Well, we get a message telling us what the critical temperature is for this EOS (0.790), and we are well above it  at T=2.0.\n",
    "5. Drop the temperature to 0.75 entering 0.75 into the text entry box. Be sure to hit return so that the number is input. Then click on the **Do Plot** button. We can see somthing going on (small orange overlay), but we need to change the plotting range for density to get a more detailed view. \n",
    "6. We can get an idea about a suitable plot range by noting the coexistent densities displayeed above the plot: **0.092 0.233**. So adjust **Min density** to .09, and **Max density** to 0.24. Then click on the **Do Plot** button. We should get the van der Waals loop that is characteristic of mean field models in the coexistence region. We also see the tie line connecting the coexistence gas and liquid phases.\n",
    "7. The spindal point marks the boundary between metastable and unstable densities. Select **Mark spinodal limits**. Then click on the **Do Plot** button. The spinodal points are marked at the extrema of the EOS in the coexistence region.\n",
    "8. The coexistence densities for mean field EOSs are determined by the **Maxwell Construction**. This procedure determines the coexistent pressure by having equal areas of the regions above and below the pressure tie line in a volume-pressure plot. We can see this schematically by selecting the **Volume** radio button. Then click on the **Do Plot** button.\n",
    "\n",
    "**References**\n",
    "\n",
    "1.1 [van der Waals EOS](http://hyperphysics.phy-astr.gsu.edu/hbase/Kinetic/waal.html)\n",
    "\n",
    "1.2 [Beyond the van der Waals Loop](https://homepage.univie.ac.at/andreas.troester/Pdf/Papers/AJPhys2012_v4.pdf)\n",
    "\n",
    "1.3 [SPINODAL LINES AND EQUATIONS OF STATE: A REVIEW](http://citeseerx.ist.psu.edu/viewdoc/download?doi=10.1.1.644.1622&rep=rep1&type=pdf)\n",
    "\n",
    "1.4 [Maxwell construction](https://en.wikipedia.org/wiki/Maxwell_construction)"
   ]
  }
 ],
 "metadata": {
  "kernelspec": {
   "display_name": "Python 3",
   "language": "python",
   "name": "python3"
  },
  "language_info": {
   "codemirror_mode": {
    "name": "ipython",
    "version": 3
   },
   "file_extension": ".py",
   "mimetype": "text/x-python",
   "name": "python",
   "nbconvert_exporter": "python",
   "pygments_lexer": "ipython3",
   "version": "3.8.3"
  },
  "toc": {
   "base_numbering": 1,
   "nav_menu": {},
   "number_sections": true,
   "sideBar": true,
   "skip_h1_title": false,
   "title_cell": "Table of Contents",
   "title_sidebar": "Contents",
   "toc_cell": false,
   "toc_position": {},
   "toc_section_display": true,
   "toc_window_display": false
  }
 },
 "nbformat": 4,
 "nbformat_minor": 4
}

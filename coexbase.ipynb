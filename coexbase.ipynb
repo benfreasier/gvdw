{
 "cells": [
  {
   "cell_type": "markdown",
   "metadata": {
    "colab_type": "text",
    "id": "ivkjOnZi6Yk6"
   },
   "source": [
    "# Coexistence base library\n",
    "\n",
    "    Ben Freasier\n",
    "    September 2020\n",
    "    \n",
    "The purpose of this script is to develop fitting functions to the various versions of the van der Waals models promulgated in the [Generalized van der Waals Theory of Moleclar Fluids in Bulk at at Surfaces](elsevier.com/books/generalized-van-der-waals-theory-of-molecular-fluids-in-bulk-and-at-surfaces/nordholm/978-0-12-811136-9) (GVDWB). \n",
    "\n",
    "For the classical van der Waals and the simple generalized van der Waals (GVDW(S)) equations of state we will calculate the coexistence curves using [Parametric solution of the van der Waals liquid-vapor coexistence curve](https://www.wgtn.ac.nz/scps/about/staff/pdf/Van-der-Waals-liquid-vapor-coexistence-curve.pdf) by John Lekner. I will refer to this reference as JL.\n",
    "\n",
    "The other more complicated generalized van der Waals models in GVDWB may not be so susceptiple to Lekner's parametric analysis. In that case we will calculate the coexistence curve using the a more brute force numerical integration for the Maxwell construction.\n",
    "\n",
    "Once the coexistence curves have been calculated, the curves will be fitted with spline functions in order to optimize calculation time in future applications.\n",
    "\n",
    "Priority List (from Sture) \n",
    "\n",
    "- vdW   the old workhorse (DONE) and \n",
    "- GvdW(S) improving the dense fluid behaviour; (DONE)\n",
    "- GvdW(HS-B2) as the simplest attempt to be OK at high and low density:\n",
    "- GvdW(I) and \n",
    "- GvdW(CS) which do a much better job of representing density dependent excluded volume; (DONE)\n",
    "- GvdW(VHS-I) which shows how hole creation is coupled to both entropy and binding energy;\n",
    "\n",
    "All the others are of more exploratory interest.\n",
    "\n",
    "Here is the code:\n",
    "\n",
    "\n"
   ]
  },
  {
   "cell_type": "markdown",
   "metadata": {
    "toc": true
   },
   "source": [
    "<h1>Table of Contents<span class=\"tocSkip\"></span></h1>\n",
    "<div class=\"toc\"><ul class=\"toc-item\"><li><span><a href=\"#Imports\" data-toc-modified-id=\"Imports-1\"><span class=\"toc-item-num\">1&nbsp;&nbsp;</span>Imports</a></span></li><li><span><a href=\"#classic_vdw()\" data-toc-modified-id=\"classic_vdw()-2\"><span class=\"toc-item-num\">2&nbsp;&nbsp;</span>classic_vdw()</a></span></li><li><span><a href=\"#cubic(s)\" data-toc-modified-id=\"cubic(s)-3\"><span class=\"toc-item-num\">3&nbsp;&nbsp;</span>cubic(s)</a></span></li><li><span><a href=\"#pmu_maxwell()\" data-toc-modified-id=\"pmu_maxwell()-4\"><span class=\"toc-item-num\">4&nbsp;&nbsp;</span>pmu_maxwell()</a></span></li><li><span><a href=\"#GVDW(CS)\" data-toc-modified-id=\"GVDW(CS)-5\"><span class=\"toc-item-num\">5&nbsp;&nbsp;</span>GVDW(CS)</a></span><ul class=\"toc-item\"><li><span><a href=\"#cs_vdw()\" data-toc-modified-id=\"cs_vdw()-5.1\"><span class=\"toc-item-num\">5.1&nbsp;&nbsp;</span>cs_vdw()</a></span></li></ul></li><li><span><a href=\"#GvdW(I)\" data-toc-modified-id=\"GvdW(I)-6\"><span class=\"toc-item-num\">6&nbsp;&nbsp;</span>GvdW(I)</a></span><ul class=\"toc-item\"><li><span><a href=\"#gvdwi()\" data-toc-modified-id=\"gvdwi()-6.1\"><span class=\"toc-item-num\">6.1&nbsp;&nbsp;</span>gvdwi()</a></span></li></ul></li><li><span><a href=\"#GvdW(HS-B2)\" data-toc-modified-id=\"GvdW(HS-B2)-7\"><span class=\"toc-item-num\">7&nbsp;&nbsp;</span>GvdW(HS-B2)</a></span><ul class=\"toc-item\"><li><span><a href=\"#gvdwhsb2()\" data-toc-modified-id=\"gvdwhsb2()-7.1\"><span class=\"toc-item-num\">7.1&nbsp;&nbsp;</span>gvdwhsb2()</a></span></li></ul></li><li><span><a href=\"#GvdW(VHS-I)\" data-toc-modified-id=\"GvdW(VHS-I)-8\"><span class=\"toc-item-num\">8&nbsp;&nbsp;</span>GvdW(VHS-I)</a></span><ul class=\"toc-item\"><li><span><a href=\"#oev()\" data-toc-modified-id=\"oev()-8.1\"><span class=\"toc-item-num\">8.1&nbsp;&nbsp;</span>oev()</a></span></li><li><span><a href=\"#gvdw_vhsi()\" data-toc-modified-id=\"gvdw_vhsi()-8.2\"><span class=\"toc-item-num\">8.2&nbsp;&nbsp;</span>gvdw_vhsi()</a></span></li></ul></li><li><span><a href=\"#GvdW(S)-corr\" data-toc-modified-id=\"GvdW(S)-corr-9\"><span class=\"toc-item-num\">9&nbsp;&nbsp;</span>GvdW(S)-corr</a></span><ul class=\"toc-item\"><li><span><a href=\"#gvdws_corr()\" data-toc-modified-id=\"gvdws_corr()-9.1\"><span class=\"toc-item-num\">9.1&nbsp;&nbsp;</span>gvdws_corr()</a></span></li></ul></li></ul></div>"
   ]
  },
  {
   "cell_type": "markdown",
   "metadata": {
    "colab_type": "text",
    "id": "aYwLpnJdRqle"
   },
   "source": [
    "## Imports\n",
    "We will import cosh, sinh, and arange from [numpy](numpy.org) so we can use array operations. \n",
    "\n",
    "We will import plt from [matplotlib](matplotlib.org) so we can plot  our results.\n",
    "\n",
    "We will use [namedtuples](https://docs.python.org/3/library/collections.html) as a simplified class for holding coexistence data.\n",
    "\n",
    "We will use [scipy.interpolate.interp1d](https://docs.scipy.org/doc/scipy/reference/generated/scipy.interpolate.interp1d.html) to define our fit as a spline fit."
   ]
  },
  {
   "cell_type": "markdown",
   "metadata": {
    "colab_type": "text",
    "id": "K9jJC_4lM5lc"
   },
   "source": []
  },
  {
   "cell_type": "code",
   "execution_count": 1,
   "metadata": {
    "ExecuteTime": {
     "end_time": "2020-10-02T20:48:05.101793Z",
     "start_time": "2020-10-02T20:48:03.985778Z"
    },
    "colab": {},
    "colab_type": "code",
    "executionInfo": {
     "elapsed": 1059,
     "status": "ok",
     "timestamp": 1601008961613,
     "user": {
      "displayName": "Ben Freasier",
      "photoUrl": "https://lh3.googleusercontent.com/a-/AOh14GgOVpvVWW25EZ80fRCFcpMYwtI7WHrgtnNkFoOTww=s64",
      "userId": "11966868539575834604"
     },
     "user_tz": -600
    },
    "id": "gLf10aDd6VuS"
   },
   "outputs": [],
   "source": [
    "from numpy import cosh, sinh, arange, pi, cumsum, dot, log, shape, multiply, array, sqrt\n",
    "import matplotlib.pyplot as plt\n",
    "from collections import namedtuple\n",
    "from scipy.interpolate import interp1d\n",
    "from scipy.optimize import fsolve \n",
    "import scipy.integrate as si\n",
    "from scipy.optimize import curve_fit\n",
    "import warnings"
   ]
  },
  {
   "cell_type": "markdown",
   "metadata": {
    "colab_type": "text",
    "id": "UbyY7qR-IC_1"
   },
   "source": [
    "## classic_vdw()\n",
    "\n",
    "This function defines the classic van der Waals equation of state with molecular exclusion volume $\\sigma$:\n",
    "\n",
    "$$\n",
    "P = {Nk_BT\\over V - {2\\pi\\over3}\\sigma^3} - {a\\over V^2}\n",
    "$$\n",
    "\n",
    "Inputs:\n",
    "\n",
    "- rho = density = `N/V` reduced by $\\sigma^3$. It can be an array.\n",
    "- t = reduced by the van der Waals attraction, $a$. Since we are working on an isotherm in this study, it will usually be parameterized with in a higher level function that will appear to be only a function of the density.\n",
    "\n",
    "Output\n",
    "\n",
    "- pressure in units of $\\sigma^3/a$\n",
    "\n"
   ]
  },
  {
   "cell_type": "code",
   "execution_count": 2,
   "metadata": {
    "ExecuteTime": {
     "end_time": "2020-10-02T20:48:05.117750Z",
     "start_time": "2020-10-02T20:48:05.104784Z"
    },
    "colab": {},
    "colab_type": "code",
    "executionInfo": {
     "elapsed": 1046,
     "status": "ok",
     "timestamp": 1601008961616,
     "user": {
      "displayName": "Ben Freasier",
      "photoUrl": "https://lh3.googleusercontent.com/a-/AOh14GgOVpvVWW25EZ80fRCFcpMYwtI7WHrgtnNkFoOTww=s64",
      "userId": "11966868539575834604"
     },
     "user_tz": -600
    },
    "id": "vuaP-EQ3Kk89"
   },
   "outputs": [],
   "source": [
    "def classic_vdw(rho,t=1.):\n",
    "  v = 1./rho\n",
    "  p = t/(v-2.*pi/3)-1.*rho*rho\n",
    "  return p"
   ]
  },
  {
   "cell_type": "markdown",
   "metadata": {
    "colab_type": "text",
    "id": "HkFikmAkDjRu"
   },
   "source": [
    "## cubic(s)"
   ]
  },
  {
   "cell_type": "markdown",
   "metadata": {
    "colab_type": "text",
    "id": "3_2FOyp1D73H"
   },
   "source": [
    "This function takes the classic cubic vdw equations and fits the coexistence curve to linear spline functions. The motivation for this is to speed up the execution of the coexistence curve calculation when it is being used in a dynamic situation (eg, a student tutorial app).\n",
    "\n",
    "The logic of the program is\n",
    "\n",
    "- calculate the coexistent gas and liquid densities (in units scaled to the critical point) for each value in the passed `s` array.\n",
    "\n",
    "- plot those values. I tried to use the minimum number of `s` points to capture the shape of the curve. I was happy with 9 points.\n",
    "\n",
    "- I then did a spline fit for both the gas and liquid branches.\n",
    "\n",
    "- I then defined a range of densities over which to interpolate the gas and liquid coexistent temperatures.\n",
    "\n",
    "- I then defined a named tuple containing the spline functions for the gas and liquid branch for use in other applications.\n",
    "\n",
    "INPUT: s, array of JLs `s/2` values\n",
    "\n",
    "OUTPUT: coex, named tuple of type Coex containing spline fit functions"
   ]
  },
  {
   "cell_type": "code",
   "execution_count": 3,
   "metadata": {
    "ExecuteTime": {
     "end_time": "2020-10-02T20:48:05.261366Z",
     "start_time": "2020-10-02T20:48:05.120743Z"
    },
    "colab": {},
    "colab_type": "code",
    "executionInfo": {
     "elapsed": 1023,
     "status": "ok",
     "timestamp": 1601008961617,
     "user": {
      "displayName": "Ben Freasier",
      "photoUrl": "https://lh3.googleusercontent.com/a-/AOh14GgOVpvVWW25EZ80fRCFcpMYwtI7WHrgtnNkFoOTww=s64",
      "userId": "11966868539575834604"
     },
     "user_tz": -600
    },
    "id": "O9I66JbBuVnY"
   },
   "outputs": [],
   "source": [
    "def cubic(s,doplot=False):\n",
    "  f=(s*cosh(s)-sinh(s))/(sinh(s)*cosh(s)-s)\n",
    "  c = cosh(s)\n",
    "  g = 1 + 2*c*f + f*f\n",
    "  t = (27./4.)*f*(c+f)/(g*g)\n",
    "  p = 27*f*f*(1-f*f)/(g*g)\n",
    "  ns = 3*f*(c+f)/g\n",
    "  nd = (6*f/g)*sinh(s)\n",
    "  nl = (2*ns + nd)/2\n",
    "  ng = nl-nd\n",
    "  if doplot:\n",
    "    plt.plot(ng,t,\"o\",c=\"k\",label=\"Exact values\")\n",
    "    plt.plot(nl,t,\"o\",c=\"k\")\n",
    "\n",
    "  k = \"slinear\"\n",
    "  fg = interp1d(ng,t,kind=k,fill_value=\"extrapolate\")\n",
    "  x = arange(ng[-1],ng[0],.001)\n",
    "  y = fg(x)\n",
    "  if doplot:\n",
    "    plt.plot(x,y,label=\"gas branch fit\")\n",
    "\n",
    "  fl = interp1d(nl,t,kind=k,fill_value=\"extrapolate\")\n",
    "  x = arange(nl[0],nl[-1],.01)\n",
    "  y = fl(x)\n",
    "  if doplot:\n",
    "    plt.plot(x,y,label=\"liquid branch fit\")\n",
    "\n",
    "    plt.legend()\n",
    "    plt.xlabel(\"n*\")\n",
    "    plt.ylabel(\"T*\")\n",
    "    plt.show()\n",
    "  \n",
    "  Coex = namedtuple('Coex', \"fg fl\".split())\n",
    "  coex = Coex(fg,fl)\n",
    "  return coex\n",
    "\n",
    "# s = [.001,.25,.5,1.,1.5,2.,3.,5.,10.,200.]\n",
    "# cubres = cubic_vdw=cubic(s,doplot=True)"
   ]
  },
  {
   "cell_type": "markdown",
   "metadata": {
    "colab_type": "text",
    "id": "F8qIYCMOdQ6W"
   },
   "source": [
    "## pmu_maxwell()\n",
    "\n",
    "One way of doing the Maxwell construction is to to calculate isotherms of the pressure $P$ and the chemical potential, $\\mu$, and note that below the critical temperature that when $\\mu$ is expressed as a function of $P$ that the liquid branch of $\\mu$ intersects with the gas branch of $\\mu$ that marks the phase coexistence.\n",
    "\n",
    "Firstly, we need to derive the chemical potential from the equation of state. The fundamental equation is\n",
    "\n",
    "$$ P = -\\left(\\\n",
    "\\partial A\\over \\partial V \\right)_{N,T} \\tag{1}.$$\n",
    "\n",
    "It is more convenient to talk about excess quantitities over the ideal gas so that\n",
    "\n",
    "$$ P - P_{id} = -\\left(\\\n",
    "\\partial (A-A_{id})\\over \\partial V \\right)_{N,T} \\tag{2}.$$\n",
    "\n",
    "We know that the free energy of an ideal gas , $A_{id}$, is given by\n",
    "\n",
    "$$\n",
    "A_{id}(N,V,T) = -Nk_BT\\left[\\log\\left({V\\over N\\lambda^3}\\right)+1 \\right]\\tag{3},\n",
    "$$\n",
    "\n",
    "where $\\lambda$ is the thermal wavelength and doesn't depend on the density. Since we are going to working on as isotherm when finding coexistent chemical potentials, we can ignore constant additive factors to the free energy. So, we can write our reference density dependent ideal free energy as  \n",
    "\n",
    "$$\n",
    "A_{ref}(N,V,T) = -Nk_BT\\left[\\log\\left({V\\over N}\\right)\\right]\\tag{4},\n",
    "$$\n",
    "\n",
    "So, we do the integration\n",
    "\n",
    "\n",
    "$$ \n",
    "A(N,T,V)\\tag{5} =\n",
    "-\\int_\\infty^V\\,dV^\\prime \\left(P-{{Nk_BT}\\over V^\\prime}\\right) + A_{ref}(N,V,T) \n",
    "$$\n",
    "\n",
    "We now make a change of variables of the density, $\\rho^\\prime = N/V^\\prime$, so that\n",
    "\n",
    "$$ dV^\\prime = -{N\\over {\\rho^\\prime}^2}d\\rho^\\prime\n",
    "\\tag{6}.$$\n",
    "\n",
    "Combining (5) and (6) and reversing integral limits gives \n",
    "\n",
    "$$\n",
    "{A(N,T,\\rho)\\over Nk_BT} = \n",
    "\\int_0^\\rho {1\\over\\rho^\\prime} \\left({{P\\over \\rho^\\prime k_B T}-1}\\right) \n",
    "d\\rho^\\prime + \\log(\\rho)  \\tag{7}.\n",
    "$$\n",
    "\n",
    "Since $G = A + PV$, and $\\mu = G/N$, we can express the chemical potential over ideal on an isotherm as\n",
    "\n",
    "$$\n",
    "{\\mu^{ex}\\over k_BT} = \n",
    "\\int_0^\\rho {1\\over\\rho^\\prime}\\left({{P\\over \\rho^\\prime k_B T}-1}\\right)\n",
    "d\\rho^\\prime + \\log(\\rho) + {P\\over k_BT\\rho}. \\tag{8}\n",
    "$$\n",
    "\n",
    "\n"
   ]
  },
  {
   "cell_type": "markdown",
   "metadata": {
    "colab_type": "text",
    "id": "jO5KsWHiop9Q"
   },
   "source": [
    "\n",
    "We will use Equation 8 is what we will use for doing the Maxwell construction for a an equation of state on an isotherm. The calling sequence is\n",
    "\n",
    "    pmu_maxwell(pfunc,t,rng=[.0001,.3,.001],plot=[])\n",
    "\n",
    "where\n",
    "\n",
    "`pfunc`: equation of state\n",
    "\n",
    "`t`: temperature\n",
    "\n",
    "`rng`: [rhomin,rhodmax,delta_rho]\n",
    "\n",
    "`plot`: list of plot indices for which a plot will be generated for each index in the list. These indices are:\n",
    "\n",
    "  - 0 - equation of state\n",
    "  - 1 - compressibility factor\n",
    "  - 2 - integrand in Equation 8\n",
    "  - 3 - integral in Equation 8\n",
    "  - 4 - P-$\\mu$ \n",
    "\n",
    "It returns a tuple of (temperature, gas density, liquid density)\n",
    "\n",
    "What the function does:\n",
    "\n",
    "  - calculates eos over specified density range on isotherm\n",
    "  - calculates compressibility factor\n",
    "  - calculates integrand in Eqn 8\n",
    "  - calculates integral in Eqn 8\n",
    "  - calculates $\\mu$\n",
    "  - finds density ranges of liquid and gas branch\n",
    "  - fits each branch to a linear splne function set\n",
    "  - finds the interesection of the two branches to determine the coexistent pressure\n",
    "  - determines the coexistent densities from the coexistent pressure and equation of state\n",
    "  - returns the temperature and coexistent densities"
   ]
  },
  {
   "cell_type": "code",
   "execution_count": 4,
   "metadata": {
    "ExecuteTime": {
     "end_time": "2020-10-02T20:48:05.497734Z",
     "start_time": "2020-10-02T20:48:05.455847Z"
    },
    "colab": {},
    "colab_type": "code",
    "executionInfo": {
     "elapsed": 1337,
     "status": "ok",
     "timestamp": 1601008961944,
     "user": {
      "displayName": "Ben Freasier",
      "photoUrl": "https://lh3.googleusercontent.com/a-/AOh14GgOVpvVWW25EZ80fRCFcpMYwtI7WHrgtnNkFoOTww=s64",
      "userId": "11966868539575834604"
     },
     "user_tz": -600
    },
    "id": "9vcklzXQHyOl"
   },
   "outputs": [],
   "source": [
    "def pmu_maxwell(pfunc,t,rng=[.0001,.3,.001],plot=[]):\n",
    "\n",
    "  # calculate eos over specified density range on isotherm\n",
    "  r = arange(rng[0],rng[1],rng[2])\n",
    "  eos = lambda x: pfunc(x,t=t)\n",
    "  p=eos(r)\n",
    "  if 0 in plot:\n",
    "    plt.plot(r,p)\n",
    "    plt.xlabel(\"$\\\\rho\\\\sigma^3$\",size=14)\n",
    "    plt.ylabel(\"$P\\\\sigma^3/a$\",size=14)\n",
    "    plt.show()\n",
    "    plt.clf()\n",
    "\n",
    "  # calculate compressibility factor\n",
    "  cf = lambda x: (eos(x)/(x*t))\n",
    "  if 1 in plot:\n",
    "    y = cf(r)\n",
    "    plt.plot(r,y)\n",
    "    plt.xlabel(\"$\\\\rho\\sigma^3$\",size=14)\n",
    "    plt.ylabel(\"$Z$\",size=14)\n",
    "    plt.show()\n",
    "    plt.clf()\n",
    "\n",
    "  # calculate integrand in Eqn 8\n",
    "  intg = lambda x: (cf(x)-1)/x\n",
    "  if 2 in plot:\n",
    "    y = intg(r)\n",
    "    plt.plot(r,y)\n",
    "    plt.xlabel(\"$\\\\rho\\sigma^3$\",size=14)\n",
    "    plt.ylabel(\"A integrand\",size=14)\n",
    "    plt.show()\n",
    "    plt.clf()\n",
    "\n",
    "  # calculate integral in Eqn 8\n",
    "  pieces = [si.quad(intg, r[i], r[i+1])[0] for i in range(len(r)-1)]\n",
    "  yy = cumsum([0] + pieces)\n",
    "  if 3 in plot:\n",
    "    # plt.plot(r,y)\n",
    "    # plt.plot(r,yy)\n",
    "    plt.plot(r,y)\n",
    "    plt.xlabel(\"$\\\\rho\\sigma^3$\",size=14)\n",
    "    plt.ylabel(\"Integral\",size=14)\n",
    "    plt.show()\n",
    "    plt.clf()\n",
    "\n",
    "  # calculate mu\n",
    "  v = 1./r\n",
    "  mu = multiply(p,v)/t + yy + log(r)\n",
    "\n",
    "  # find density ranges of liquid and gas branch\n",
    "  for i in range(len(r)-1): \n",
    "    if mu[i] > mu[i+1]:\n",
    "      break\n",
    "  ng = i\n",
    "  for i in range(len(r)-1,1,-1): \n",
    "    if mu[i] < mu[i-1]:\n",
    "      break\n",
    "  nl = i\n",
    "\n",
    "  # fit each branch to a linear splne function set\n",
    "  k = \"slinear\"\n",
    "  fg = interp1d(p[:ng],mu[:ng],kind=k,fill_value=\"extrapolate\")\n",
    "  fl = interp1d(p[nl:],mu[nl:],kind=k,fill_value=\"extrapolate\")\n",
    "\n",
    "  # find the interesection of the two branches to determine the coexistent pressure\n",
    "  f = lambda x: fg(x)-fl(x)\n",
    "  ptrial = (p[ng]+p[nl])/2.\n",
    "  z = fsolve(f,ptrial)\n",
    "  pcoex = z[0]\n",
    "  mucoex = fg(pcoex)\n",
    "\n",
    "  # determine the coexistent densities from the coexistent pressure and equation of state\n",
    "  f = lambda x: eos(x)-pcoex\n",
    "  r1 = fsolve(f,r[0])[0]\n",
    "  f = lambda x: (eos(x)-pcoex)/(x-r1)\n",
    "  r2 = fsolve(f,r[0])[0]\n",
    "  f = lambda x: (eos(x)-pcoex)/(x-r1)/(x-r2)\n",
    "  r3 = fsolve(f,r[0])[0]\n",
    "  cd = [r1,r2,r3]\n",
    "  cd.sort()\n",
    "\n",
    "  # plot coexistence curve\n",
    "  if 4 in plot:\n",
    "    plt.plot(p[:ng],mu[:ng],\"b\",label=\"gas branch\")\n",
    "    plt.plot(p[nl:],mu[nl:],\"g\",label=\"liquid branch\")\n",
    "    plt.plot(p[ng:nl],mu[ng:nl],\"r\",ls = \"--\",label=\"unstable\")\n",
    "    plt.plot([pcoex],[mucoex],\"o\",label=\"coexistance\")\n",
    "    plt.xlabel(\"$P$\",size=14)\n",
    "    plt.ylabel(\"$\\mu/(k_BT)$\",size=14)\n",
    "    # plt.xlim(.006,.008)\n",
    "    # plt.ylim(-2.35,-2.24)\n",
    "    plt.legend()\n",
    "    plt.show()\n",
    "    plt.clf\n",
    "\n",
    "  # returns the temperature and coexistent densities\n",
    "  return t,cd[0],cd[2]\n",
    "\n",
    "# z=pmu_maxwell(classic_vdw,.06,rng=[.001,.45,.001],plot=[5])\n",
    "# print(z)"
   ]
  },
  {
   "cell_type": "markdown",
   "metadata": {
    "colab_type": "text",
    "id": "FzQRGTjBQvzm"
   },
   "source": [
    "## GVDW(CS)\n",
    "\n",
    "The Carnahan-Starling van der Waals equation of state is given by \n",
    "\n",
    "$$\n",
    "P = Nk_BT {(1 + \\eta + \\eta^2-\\eta^3)\\over(1-\\eta)^3}\n",
    " - {a\\over V^2}, \\tag{9}\n",
    "$$\n",
    "\n",
    "where $\\eta=\\pi\\sigma^3/6$. This is implemented in code in the next section."
   ]
  },
  {
   "cell_type": "markdown",
   "metadata": {
    "colab_type": "text",
    "id": "V8T649GRTLud"
   },
   "source": [
    "### cs_vdw()\n",
    "\n",
    "This has been optimized for array operations. The temperature is scaled to $a$ and the length scale is $\\sigma$."
   ]
  },
  {
   "cell_type": "code",
   "execution_count": 5,
   "metadata": {
    "ExecuteTime": {
     "end_time": "2020-10-02T20:48:05.815884Z",
     "start_time": "2020-10-02T20:48:05.805925Z"
    },
    "colab": {},
    "colab_type": "code",
    "executionInfo": {
     "elapsed": 1333,
     "status": "ok",
     "timestamp": 1601008961945,
     "user": {
      "displayName": "Ben Freasier",
      "photoUrl": "https://lh3.googleusercontent.com/a-/AOh14GgOVpvVWW25EZ80fRCFcpMYwtI7WHrgtnNkFoOTww=s64",
      "userId": "11966868539575834604"
     },
     "user_tz": -600
    },
    "id": "bALYOSWsSk4u"
   },
   "outputs": [],
   "source": [
    "def cs_vdw(rho,t=.1):\n",
    "  e = pi*rho/6.\n",
    "  e2 = multiply(e,e)\n",
    "  e3 = multiply(e2,e)\n",
    "  x = 1.-e\n",
    "  x2 = multiply(x,x)\n",
    "  x3 = multiply(x2,x)\n",
    "  p = t*(1+e+e2-e3)/x3-multiply(rho,rho)\n",
    "  return p"
   ]
  },
  {
   "cell_type": "markdown",
   "metadata": {},
   "source": [
    "## GvdW(I)\n",
    "\n",
    "The GvdW(I) EOS is given by \n",
    "\n",
    "$$\n",
    "P = {k_BT\\over v}\\left[1+{2\\pi\\over3}{\\sigma^3\\over v-\\sigma^3}\\right]-{a\\over v^2}\\tag{10}\n",
    "$$\n"
   ]
  },
  {
   "cell_type": "markdown",
   "metadata": {},
   "source": [
    "### gvdwi()\n",
    "\n",
    "The units ae scaled with $\\sigma$ and $a$."
   ]
  },
  {
   "cell_type": "code",
   "execution_count": 6,
   "metadata": {
    "ExecuteTime": {
     "end_time": "2020-10-02T20:48:06.180906Z",
     "start_time": "2020-10-02T20:48:06.165947Z"
    }
   },
   "outputs": [],
   "source": [
    "def gvdwi(rho,t=1.):\n",
    "  v = 1./rho\n",
    "  p = (t/v)*(1+(2./3.)*pi/(v-1))-1.*rho*rho\n",
    "  return p"
   ]
  },
  {
   "cell_type": "markdown",
   "metadata": {},
   "source": [
    "## GvdW(HS-B2)"
   ]
  },
  {
   "cell_type": "markdown",
   "metadata": {},
   "source": [
    "The GvdW(HS-B2) EOS is given by \n",
    "\n",
    "$$\n",
    "P = {k_BT\\over v-\\sigma}+{k_BT((2\\pi/3)-1)\\sigma^3-a\\over v^2}\\tag{11}\n",
    "$$"
   ]
  },
  {
   "cell_type": "markdown",
   "metadata": {},
   "source": [
    "### gvdwhsb2()\n",
    "\n",
    "So, in units of $T/(ak_B)$ and $\\rho\\sigma^3$ and $P\\sigma^3/a$"
   ]
  },
  {
   "cell_type": "code",
   "execution_count": 7,
   "metadata": {
    "ExecuteTime": {
     "end_time": "2020-10-02T20:48:06.673590Z",
     "start_time": "2020-10-02T20:48:06.661622Z"
    }
   },
   "outputs": [],
   "source": [
    "def gvdwhsb2(rho,t=1.):\n",
    "  v = 1./rho\n",
    "  c = 2.*pi/3.-1.\n",
    "  p = t/(v-1) + (t*c-1)*rho*rho\n",
    "  return p"
   ]
  },
  {
   "cell_type": "markdown",
   "metadata": {},
   "source": [
    "## GvdW(VHS-I)\n",
    "\n",
    "The EOS is given  by\n",
    "\n",
    "$$\n",
    "P = {k_BT\\over v} + {2\\pi\\over 3}{k_BT\\over v}{d^3\\over v-d^3}\n",
    "    -{8\\pi\\epsilon\\sigma^3\\over v^2}\n",
    "    \\left({\\sigma^3\\over 3 d^3}-{\\sigma^9\\over 9d^9}\\right)\\tag{12}\n",
    "$$\n",
    "\n",
    "**Note that relation in the book (Eqn 6.43) is missing an extra factor of $v$ in the denominator of\n",
    "the last term.**\n",
    "\n",
    "so our function is scaled by $\\rho\\sigma^3$, $k_BT/a$, and returns \n",
    "the pressure as $P\\sigma^3/a$. d is the optimized excluded volume and is given by \n",
    "\n",
    "$$\n",
    "b(x) = {2\\over x}\\left[\\left(\\sqrt{1+x}-1\\right)\\right]^{1/2}\\tag{13}\n",
    "$$\n",
    "\n",
    "where $x= k_BT/\\epsilon$ and returns the optimized excluded volume scaled to $\\sigma^3$."
   ]
  },
  {
   "cell_type": "markdown",
   "metadata": {},
   "source": [
    "### oev()"
   ]
  },
  {
   "cell_type": "code",
   "execution_count": 8,
   "metadata": {
    "ExecuteTime": {
     "end_time": "2020-10-02T20:48:07.120395Z",
     "start_time": "2020-10-02T20:48:07.114413Z"
    }
   },
   "outputs": [],
   "source": [
    "def oev(x):\n",
    "    z = sqrt(1+x)-1\n",
    "    return sqrt((2/x)*z)"
   ]
  },
  {
   "cell_type": "markdown",
   "metadata": {},
   "source": [
    "### gvdw_vhsi()"
   ]
  },
  {
   "cell_type": "code",
   "execution_count": 9,
   "metadata": {
    "ExecuteTime": {
     "end_time": "2020-10-02T20:48:07.438544Z",
     "start_time": "2020-10-02T20:48:07.421589Z"
    }
   },
   "outputs": [],
   "source": [
    "def gvdw_vhsi(rho,t=1.):\n",
    "    v = 1./rho\n",
    "    a = 16.*pi/9\n",
    "    te = a*t\n",
    "    d3 = oev(te) \n",
    "    p = (t/v)\n",
    "    p += (2*pi/3.)*p*d3/(v-d3)\n",
    "    p -= (8.*pi/(a*v*v))*(1./(3.*d3)-1./(9.*d3*d3*d3))\n",
    "    return p"
   ]
  },
  {
   "cell_type": "markdown",
   "metadata": {},
   "source": [
    "## GvdW(S)-corr"
   ]
  },
  {
   "cell_type": "markdown",
   "metadata": {},
   "source": [
    "The GvdW(S)-corr EOS is given by \n",
    "\n",
    "$$\n",
    "P = {k_BT\\over v-\\sigma^3}-{a+a_{corr}/T\\over v^2},\n",
    "$$\n",
    "\n",
    "where \n",
    "$$ \n",
    "a= {16\\pi\\over9}\\epsilon\\sigma^3\n",
    "$$\n",
    "\n",
    "and\n",
    "\n",
    "$$\n",
    "a_{corr}/T = {128\\pi\\over315}{\\epsilon\\over k_BT} \\epsilon\\sigma^3 = {8\\over35}{a\\over T}.\n",
    "$$"
   ]
  },
  {
   "cell_type": "markdown",
   "metadata": {},
   "source": [
    "### gvdws_corr()"
   ]
  },
  {
   "cell_type": "code",
   "execution_count": 10,
   "metadata": {
    "ExecuteTime": {
     "end_time": "2020-10-02T20:48:08.008020Z",
     "start_time": "2020-10-02T20:48:07.989073Z"
    }
   },
   "outputs": [],
   "source": [
    "a = 16*pi/9.\n",
    "b = 128*pi/315.\n",
    "acorr = b/a\n",
    "# b/a,8./35.\n",
    "\n",
    "def gvdws_corr(rho,t=1.):\n",
    "  v = 1./rho\n",
    "  p = t/(v-1.)-(1.+acorr/t)/(v*v)\n",
    "  return p"
   ]
  },
  {
   "cell_type": "code",
   "execution_count": null,
   "metadata": {},
   "outputs": [],
   "source": []
  }
 ],
 "metadata": {
  "colab": {
   "collapsed_sections": [],
   "name": "coexbase.ipynb",
   "provenance": [
    {
     "file_id": "16agSNIJdfiBwfLxlers3mzKhYmlUrMfc",
     "timestamp": 1600880243826
    }
   ],
   "toc_visible": true
  },
  "hide_input": false,
  "kernelspec": {
   "display_name": "Python 3",
   "language": "python",
   "name": "python3"
  },
  "language_info": {
   "codemirror_mode": {
    "name": "ipython",
    "version": 3
   },
   "file_extension": ".py",
   "mimetype": "text/x-python",
   "name": "python",
   "nbconvert_exporter": "python",
   "pygments_lexer": "ipython3",
   "version": "3.8.3"
  },
  "toc": {
   "base_numbering": 1,
   "nav_menu": {},
   "number_sections": true,
   "sideBar": true,
   "skip_h1_title": true,
   "title_cell": "Table of Contents",
   "title_sidebar": "Contents",
   "toc_cell": true,
   "toc_position": {},
   "toc_section_display": true,
   "toc_window_display": true
  }
 },
 "nbformat": 4,
 "nbformat_minor": 1
}

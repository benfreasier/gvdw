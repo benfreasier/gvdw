{
 "cells": [
  {
   "cell_type": "markdown",
   "metadata": {
    "toc": true
   },
   "source": [
    "<h1>Table of Contents<span class=\"tocSkip\"></span></h1>\n",
    "<div class=\"toc\"><ul class=\"toc-item\"><li><span><a href=\"#Script\" data-toc-modified-id=\"Script-1\"><span class=\"toc-item-num\">1&nbsp;&nbsp;</span>Script</a></span></li><li><span><a href=\"#Background\" data-toc-modified-id=\"Background-2\"><span class=\"toc-item-num\">2&nbsp;&nbsp;</span>Background</a></span></li><li><span><a href=\"#User-Instructions\" data-toc-modified-id=\"User-Instructions-3\"><span class=\"toc-item-num\">3&nbsp;&nbsp;</span>User Instructions</a></span></li></ul></div>"
   ]
  },
  {
   "cell_type": "markdown",
   "metadata": {},
   "source": [
    "# Regular Solution Theory Free Energy of Mixing"
   ]
  },
  {
   "cell_type": "markdown",
   "metadata": {},
   "source": [
    "## Script\n",
    "\n",
    "Import the fast numeric and plotting routines from numpy and matplotlib, respectively.\n",
    "\n",
    "Import the interaction and widget support from IPython.\n",
    "\n",
    "Define the x ranges for the free energy and its derivatives, respectively.\n",
    "\n",
    "Define doplot(omega):\n",
    "\n",
    "    - inside doplot define free energy (Eqn 7.32)\n",
    "    - inside doplot define the first derivative of the free energy (Eqn 7.33)\n",
    "    - inside doplot define the first derivative of the free energy (Eqn 7.34)    \n",
    "    - define figure size\n",
    "    - plot free energy and its derivatives in seperate plots\n",
    "    - title plots\n",
    "    - use tight_layout to make room for axis labels\n",
    "\n"
   ]
  },
  {
   "cell_type": "code",
   "execution_count": 1,
   "metadata": {
    "ExecuteTime": {
     "end_time": "2020-08-27T04:43:01.739122Z",
     "start_time": "2020-08-27T04:43:01.094787Z"
    }
   },
   "outputs": [],
   "source": [
    "from matplotlib.pyplot import ylabel, plot, savefig, show, xlabel, title, legend, text, figure, subplot\n",
    "import matplotlib.pyplot as plt\n",
    "from numpy import log, arange, frompyfunc\n",
    "from ipywidgets import interact_manual\n",
    "import ipywidgets as widgets\n",
    "\n",
    "x = arange(.001, 1, .001)\n",
    "xn = arange(.4, .6, .001)\n",
    "\n",
    "def doplot(omega):\n",
    "    def da(x1):\n",
    "        x2 = 1. - x1\n",
    "        return omega * x1 * x2 + x1 * log(x1) + x2 * log(x2)\n",
    "    dam = frompyfunc(da, 1, 1)\n",
    "    \n",
    "    def dadx(x1):\n",
    "        x2 = 1. - x1\n",
    "        return omega * (1-2*x1) + log(x1) - log(x2)\n",
    "    dadxm = frompyfunc(dadx, 1, 1)\n",
    "    \n",
    "    def dadx2(x1):\n",
    "        x2 = 1. - x1\n",
    "        return -2*omega + 1./x1 + 1./x2\n",
    "    dadx2m = frompyfunc(dadx2, 1, 1)\n",
    "\n",
    "    fig = plt.figure(figsize = (6,9))\n",
    "    \n",
    "    plt.subplot(311)\n",
    "    y = dam(x)\n",
    "    plot(x, y, color=\"black\")\n",
    "    plt.title(\"$f_M(x)\\ for\\ \\omega$ = %4.2f (Eqn. 7.32)\" % omega)\n",
    "    plt.xlim(0,1)\n",
    "    \n",
    "    plt.subplot(312)\n",
    "    plt.title(\"$df_M(x)/dx\\ for\\ \\omega$ = %4.2f (Eqn. 7.33)\" % omega)\n",
    "    yn = dadxm(xn)\n",
    "    plot(xn, yn, color=\"black\")  \n",
    "\n",
    "    plt.xlim(0.4,.6)\n",
    "    \n",
    "    plt.subplot(313)\n",
    "    yn = dadx2m(xn)\n",
    "    plt.title(\"$df_M^2(x)/dx^2\\ for\\ \\omega$ = %4.2f (Eqn. 7.34)\" % omega)\n",
    "    plot(xn, yn, color=\"black\") \n",
    "    plt.xlim(0.4,.6)\n",
    "    \n",
    "    fig.tight_layout()"
   ]
  },
  {
   "cell_type": "markdown",
   "metadata": {},
   "source": [
    "## Background\n",
    "\n",
    " A good discusion of the *Regular Solution Theory* is given in Section 7.2 in \n",
    "**Generalized van der Waals Theory of Molecular Fluids in Bulk and at Surfaces**. The relevant equations \n",
    "for the free energy of mixing and its first two derivatives\n",
    "Equations 7.29 and 7.32-7.34.\n",
    "\n",
    "$$f_{M}(x_{1}) = \\left[ \\omega x_{1}x_{2}+x_{1}\\ln x_{1}+x_{2}\\ln x_{2}\\right]\\ \\ (7.32)$$,\n",
    "\n",
    "$$f_{M}^{\\prime }(x_{1}) =\\omega (1-2x_{1})+\\ln x_{1}-\\ln x_{2}\\ \\ (7.33)$$,\n",
    "\n",
    "$$f_{M}^{\\prime \\prime }(x_{1}) =-2\\omega +\\frac{1}{x_{1}}+\\frac{1}{1-x_{1}}\\ \\  (7.34)$$.\n",
    "\n",
    "where $\\omega$ is the scaled inverse temperature given by Equation 7.29 in the book. Below a certain temperature (or above\n",
    "a certain $\\omega$, one has phase separation for $x_1$ and $x_2$ have the same free energy and zero derivative.\n",
    "\n",
    "## User Instructions\n",
    "\n",
    "Run all cells by Executing the **Run ALL** menu item under the **Cell** menu.\n",
    "\n",
    "This will set up the interaction widget, so that the user can specify $\\omega$ with a slider. \n",
    "\n",
    "Once the user is satisfied with their choice of $\\omega$ (= omega), the user can generate the free energy plots by clicking the **Run interact** button. \n",
    "\n",
    "This can be done repetitively, and the user can by trial and error determining the critical temperature and coexistent $x_1$, $x_2$ by specifing large enough $\\omega$."
   ]
  },
  {
   "cell_type": "code",
   "execution_count": 2,
   "metadata": {
    "ExecuteTime": {
     "end_time": "2020-08-27T04:43:01.779954Z",
     "start_time": "2020-08-27T04:43:01.742053Z"
    }
   },
   "outputs": [
    {
     "data": {
      "application/vnd.jupyter.widget-view+json": {
       "model_id": "f2dbe6c2c4ca41f4b2718aec2fc8178e",
       "version_major": 2,
       "version_minor": 0
      },
      "text/plain": [
       "interactive(children=(FloatSlider(value=4.0, description='omega', max=4.0, min=-1.0, step=0.01), Button(descri…"
      ]
     },
     "metadata": {},
     "output_type": "display_data"
    }
   ],
   "source": [
    "w=interact_manual(doplot, omega=widgets.FloatSlider(min=-1., max=4., step=.01,value=4.))"
   ]
  },
  {
   "cell_type": "code",
   "execution_count": null,
   "metadata": {},
   "outputs": [],
   "source": []
  }
 ],
 "metadata": {
  "hide_input": false,
  "kernelspec": {
   "display_name": "p36workshop",
   "language": "python",
   "name": "p36workshop"
  },
  "language_info": {
   "codemirror_mode": {
    "name": "ipython",
    "version": 3
   },
   "file_extension": ".py",
   "mimetype": "text/x-python",
   "name": "python",
   "nbconvert_exporter": "python",
   "pygments_lexer": "ipython3",
   "version": "3.6.10"
  },
  "toc": {
   "base_numbering": 1,
   "nav_menu": {},
   "number_sections": true,
   "sideBar": true,
   "skip_h1_title": true,
   "title_cell": "Table of Contents",
   "title_sidebar": "Contents",
   "toc_cell": true,
   "toc_position": {},
   "toc_section_display": true,
   "toc_window_display": false
  }
 },
 "nbformat": 4,
 "nbformat_minor": 2
}
